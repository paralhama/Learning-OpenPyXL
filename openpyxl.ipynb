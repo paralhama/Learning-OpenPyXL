{
 "cells": [
  {
   "cell_type": "markdown",
   "metadata": {},
   "source": [
    "# Workbook e Worksheet"
   ]
  },
  {
   "cell_type": "markdown",
   "metadata": {},
   "source": [
    "## Criar uma Workbook"
   ]
  },
  {
   "cell_type": "code",
   "execution_count": 1,
   "metadata": {},
   "outputs": [],
   "source": [
    "from openpyxl import Workbook"
   ]
  },
  {
   "cell_type": "code",
   "execution_count": 2,
   "metadata": {},
   "outputs": [],
   "source": [
    "wb = Workbook()\n",
    "ws = wb.active\n",
    "\n",
    "ws.title = 'Minha planilha'\n"
   ]
  },
  {
   "cell_type": "code",
   "execution_count": 3,
   "metadata": {},
   "outputs": [
    {
     "data": {
      "text/plain": [
       "['teste', 'Minha planilha']"
      ]
     },
     "execution_count": 3,
     "metadata": {},
     "output_type": "execute_result"
    }
   ],
   "source": [
    "ws2 = wb.create_sheet('teste', 0)\n",
    "ws2.title\n",
    "wb.sheetnames"
   ]
  },
  {
   "cell_type": "markdown",
   "metadata": {},
   "source": [
    "### Percorrendo entre planilhas"
   ]
  },
  {
   "cell_type": "code",
   "execution_count": 5,
   "metadata": {},
   "outputs": [
    {
     "name": "stdout",
     "output_type": "stream",
     "text": [
      "teste\n",
      "Minha planilha\n"
     ]
    }
   ],
   "source": [
    "for sheets in wb.sheetnames:\n",
    "    print(sheets)"
   ]
  },
  {
   "cell_type": "code",
   "execution_count": 6,
   "metadata": {},
   "outputs": [],
   "source": [
    "ws.sheet_properties.tabColor = '2FD588'"
   ]
  },
  {
   "cell_type": "code",
   "execution_count": 7,
   "metadata": {},
   "outputs": [],
   "source": [
    "wb.save('teste.xlsx')"
   ]
  },
  {
   "cell_type": "markdown",
   "metadata": {},
   "source": [
    "## Preenchendo dados da planilha"
   ]
  },
  {
   "cell_type": "code",
   "execution_count": 22,
   "metadata": {},
   "outputs": [],
   "source": [
    "from openpyxl import load_workbook"
   ]
  },
  {
   "cell_type": "code",
   "execution_count": 23,
   "metadata": {},
   "outputs": [],
   "source": [
    "wb = load_workbook('teste.xlsx')"
   ]
  },
  {
   "cell_type": "code",
   "execution_count": 24,
   "metadata": {},
   "outputs": [
    {
     "data": {
      "text/plain": [
       "<Worksheet \"Minha planilha\">"
      ]
     },
     "execution_count": 24,
     "metadata": {},
     "output_type": "execute_result"
    }
   ],
   "source": [
    "wb.active"
   ]
  },
  {
   "cell_type": "code",
   "execution_count": 25,
   "metadata": {},
   "outputs": [],
   "source": [
    "wb.active = wb['Minha planilha']"
   ]
  },
  {
   "cell_type": "code",
   "execution_count": 26,
   "metadata": {},
   "outputs": [
    {
     "data": {
      "text/plain": [
       "<Worksheet \"Minha planilha\">"
      ]
     },
     "execution_count": 26,
     "metadata": {},
     "output_type": "execute_result"
    }
   ],
   "source": [
    "wb.active"
   ]
  },
  {
   "cell_type": "code",
   "execution_count": 27,
   "metadata": {},
   "outputs": [],
   "source": [
    "planilha = wb['teste']"
   ]
  },
  {
   "cell_type": "code",
   "execution_count": 28,
   "metadata": {},
   "outputs": [],
   "source": [
    "#  Inserindo dados em células\n",
    "\n",
    "planilha['A1'] = 'Primeira célula preenchida'\n",
    "planilha.merge_cells('A1:C1')"
   ]
  },
  {
   "cell_type": "code",
   "execution_count": 29,
   "metadata": {},
   "outputs": [],
   "source": [
    "planilha.cell(row=1, column=4, value='Segunda Célula preenchida')\n",
    "planilha.merge_cells('D1:F1')"
   ]
  },
  {
   "cell_type": "code",
   "execution_count": 30,
   "metadata": {},
   "outputs": [],
   "source": [
    "for index_x in range(3, 20):\n",
    "    for index_y in range(1, 20):\n",
    "        planilha.cell(row=index_x, column=index_y, value='teste')\n",
    "        # index_x = row = Linha\n",
    "        # index_y = column = Coluna\n"
   ]
  },
  {
   "cell_type": "code",
   "execution_count": 31,
   "metadata": {},
   "outputs": [],
   "source": [
    "wb.save('Segundo arquivo excel.xlsx')"
   ]
  },
  {
   "cell_type": "code",
   "execution_count": 32,
   "metadata": {},
   "outputs": [],
   "source": [
    "lista = [\n",
    "    ['Código', 'Descrição', 'Valor'],\n",
    "    ['001', 'Material de Limpeza', '1000'],\n",
    "    ['002', 'Material de Consumo', '2000'],\n",
    "    ['003', 'Matéria Prima', '5000']\n",
    "]"
   ]
  },
  {
   "cell_type": "code",
   "execution_count": 33,
   "metadata": {},
   "outputs": [],
   "source": [
    "my_workbook = wb['Minha planilha']\n",
    "\n",
    "for index_x, linha in enumerate(lista):\n",
    "    for index_y, info in enumerate(linha):\n",
    "        my_workbook.cell(row=index_x+1, column=index_y+1, value=info)\n",
    "# index_x = row = linha\n",
    "# index_y = column = coluna"
   ]
  },
  {
   "cell_type": "code",
   "execution_count": 34,
   "metadata": {},
   "outputs": [],
   "source": [
    "wb.save('teste.xlsx')"
   ]
  },
  {
   "cell_type": "markdown",
   "metadata": {},
   "source": [
    "## Acessando Valores"
   ]
  },
  {
   "cell_type": "code",
   "execution_count": 2,
   "metadata": {},
   "outputs": [],
   "source": [
    "from openpyxl import load_workbook"
   ]
  },
  {
   "cell_type": "code",
   "execution_count": 3,
   "metadata": {},
   "outputs": [],
   "source": [
    "wb = load_workbook('teste.xlsx')\n",
    "\n",
    "ws = wb['Minha planilha']"
   ]
  },
  {
   "cell_type": "code",
   "execution_count": 4,
   "metadata": {},
   "outputs": [
    {
     "name": "stdout",
     "output_type": "stream",
     "text": [
      "Código\n",
      "Descrição\n",
      "Valor\n",
      "001\n",
      "Material de Limpeza\n",
      "1000\n",
      "002\n",
      "Material de Consumo\n",
      "2000\n",
      "003\n",
      "Matéria Primo\n",
      "5000\n"
     ]
    }
   ],
   "source": [
    "for row in ws.values:\n",
    "    for value in row:\n",
    "        print(value)"
   ]
  },
  {
   "cell_type": "code",
   "execution_count": 7,
   "metadata": {},
   "outputs": [
    {
     "name": "stdout",
     "output_type": "stream",
     "text": [
      "(<Cell 'Minha planilha'.A1>, <Cell 'Minha planilha'.B1>, <Cell 'Minha planilha'.C1>)\n",
      "(<Cell 'Minha planilha'.A2>, <Cell 'Minha planilha'.B2>, <Cell 'Minha planilha'.C2>)\n",
      "(<Cell 'Minha planilha'.A3>, <Cell 'Minha planilha'.B3>, <Cell 'Minha planilha'.C3>)\n",
      "(<Cell 'Minha planilha'.A4>, <Cell 'Minha planilha'.B4>, <Cell 'Minha planilha'.C4>)\n"
     ]
    }
   ],
   "source": [
    "for row in ws.rows:\n",
    "    print(row)"
   ]
  },
  {
   "cell_type": "code",
   "execution_count": 38,
   "metadata": {},
   "outputs": [
    {
     "name": "stdout",
     "output_type": "stream",
     "text": [
      "('Código', 'Descrição', 'Valor')\n",
      "('001', 'Material de Limpeza', '1000')\n",
      "('002', 'Material de Consumo', '2000')\n",
      "('003', 'Matéria Primo', '5000')\n"
     ]
    }
   ],
   "source": [
    "for rows in ws.iter_rows(min_row=1, max_row=4, min_col=1, max_col=3, values_only=True):\n",
    "    print(rows)"
   ]
  },
  {
   "cell_type": "markdown",
   "metadata": {},
   "source": [
    "## Copiando Planilhas"
   ]
  },
  {
   "cell_type": "code",
   "execution_count": null,
   "metadata": {},
   "outputs": [],
   "source": [
    "from openpyxl import load_workbook\n",
    "\n",
    "wb = load_workbook('teste.xlsx')\n",
    "\n",
    "mp_copy = wb.copy_worksheet(wb['Minha planilha'])\n",
    "\n",
    "mp_copy.title = 'copy'\n",
    "\n",
    "wb.sheetnames\n",
    "\n",
    "wb.save('teste.xlsx')"
   ]
  },
  {
   "cell_type": "markdown",
   "metadata": {},
   "source": [
    "## Criando a classe Planilha"
   ]
  },
  {
   "cell_type": "code",
   "execution_count": 75,
   "metadata": {},
   "outputs": [],
   "source": [
    "from openpyxl import load_workbook, Workbook\n",
    "\n",
    "class Planilhas():\n",
    "    def __init__(self, wb):\n",
    "        self.wb = wb\n",
    "\n",
    "    def save_workbook(self, filename):\n",
    "        self.wb.save(f'{filename}')\n",
    "\n",
    "    def load_workbook(self, filename):\n",
    "        self.wb = load_workbook(filename)\n",
    "    \n",
    "    def create_sheets(self, sheet):\n",
    "        for s in sheet:\n",
    "            self.wb.create_sheet(s)\n",
    "    \n",
    "    def delete_sheets(self, sheet):\n",
    "        self.wb.remove(self.wb[sheet])\n",
    "    \n",
    "    def copy_sheet(self, SheetName, title_sheet=''):\n",
    "        if new_sheet != '':\n",
    "            ws = self.wb[SheetName]\n",
    "            new_sheet = self.wb.copy_worksheet(ws)\n",
    "            new_sheet.title = title_sheet\n",
    "    \n",
    "    def get_sheet_by_index(self, index):\n",
    "        \n",
    "        try:\n",
    "            return self.wb.worksheets[index]\n",
    "        except IndexError:\n",
    "            print(\"Planilha não existe\", index)\n",
    "    \n",
    "    def fill_data(self, sheet, lista):\n",
    "        ws = self.wb[sheet]\n",
    "        for index_x, linha in enumerate(lista):\n",
    "            for index_y, info in enumerate(linha):\n",
    "                ws.cell(row=index_x+1, column=index_y+1, value=info)"
   ]
  },
  {
   "cell_type": "code",
   "execution_count": 76,
   "metadata": {},
   "outputs": [],
   "source": [
    "my_plan = Planilhas(Workbook())"
   ]
  },
  {
   "cell_type": "code",
   "execution_count": 77,
   "metadata": {},
   "outputs": [],
   "source": [
    "my_plan.create_sheets(['teste1', 'teste2', 'teste3'])"
   ]
  },
  {
   "cell_type": "code",
   "execution_count": 78,
   "metadata": {},
   "outputs": [],
   "source": [
    "my_plan.save_workbook('planilhas_usando_classes.xlsx')"
   ]
  },
  {
   "cell_type": "code",
   "execution_count": 79,
   "metadata": {},
   "outputs": [
    {
     "data": {
      "text/plain": [
       "<Worksheet \"Sheet\">"
      ]
     },
     "execution_count": 79,
     "metadata": {},
     "output_type": "execute_result"
    }
   ],
   "source": [
    "my_plan.get_sheet_by_index(0)"
   ]
  },
  {
   "cell_type": "code",
   "execution_count": 80,
   "metadata": {},
   "outputs": [],
   "source": [
    "my_plan.delete_sheets('Sheet')\n",
    "my_plan.save_workbook('planilhas_usando_classes.xlsx')"
   ]
  },
  {
   "cell_type": "code",
   "execution_count": 81,
   "metadata": {},
   "outputs": [],
   "source": [
    "lista = [\n",
    "    ['Código', 'Descrição', 'Valor'],\n",
    "    ['001', 'Material de Limpeza', '1000'],\n",
    "    ['002', 'Material de Consumo', '2000'],\n",
    "    ['003', 'Matéria Prima', '5000']\n",
    "]\n",
    "\n",
    "my_plan.fill_data('teste1', lista)\n",
    "\n",
    "my_plan.save_workbook('planilhas_usando_classes.xlsx')"
   ]
  },
  {
   "cell_type": "markdown",
   "metadata": {},
   "source": [
    "## Interagindo sobre as células"
   ]
  },
  {
   "cell_type": "code",
   "execution_count": 1,
   "metadata": {},
   "outputs": [],
   "source": [
    "from openpyxl import load_workbook, Workbook\n",
    "from openpyxl.utils import get_column_letter"
   ]
  },
  {
   "cell_type": "code",
   "execution_count": 2,
   "metadata": {},
   "outputs": [],
   "source": [
    "wb = load_workbook('planilhas_usando_classes.xlsx')\n",
    "ws = wb['teste1']"
   ]
  },
  {
   "cell_type": "code",
   "execution_count": 3,
   "metadata": {},
   "outputs": [
    {
     "data": {
      "text/plain": [
       "((<Cell 'teste1'.A1>, <Cell 'teste1'.B1>, <Cell 'teste1'.C1>),\n",
       " (<Cell 'teste1'.A2>, <Cell 'teste1'.B2>, <Cell 'teste1'.C2>),\n",
       " (<Cell 'teste1'.A3>, <Cell 'teste1'.B3>, <Cell 'teste1'.C3>),\n",
       " (<Cell 'teste1'.A4>, <Cell 'teste1'.B4>, <Cell 'teste1'.C4>))"
      ]
     },
     "execution_count": 3,
     "metadata": {},
     "output_type": "execute_result"
    }
   ],
   "source": [
    "cell_range = ws['A1:C4']\n",
    "cell_range"
   ]
  },
  {
   "cell_type": "code",
   "execution_count": 6,
   "metadata": {},
   "outputs": [
    {
     "name": "stdout",
     "output_type": "stream",
     "text": [
      "Código Descrição Valor\n",
      "001 Material de Limpeza 1000\n",
      "002 Material de Consumo 2000\n",
      "003 Matéria Prima 5000\n"
     ]
    }
   ],
   "source": [
    "for col1, col2, col3, in cell_range:\n",
    "    print(col1.value, col2.value, col3.value)"
   ]
  },
  {
   "cell_type": "code",
   "execution_count": 7,
   "metadata": {},
   "outputs": [
    {
     "data": {
      "text/plain": [
       "[('Código', 'Descrição', 'Valor'),\n",
       " ('001', 'Material de Limpeza', '1000'),\n",
       " ('002', 'Material de Consumo', '2000'),\n",
       " ('003', 'Matéria Prima', '5000')]"
      ]
     },
     "execution_count": 7,
     "metadata": {},
     "output_type": "execute_result"
    }
   ],
   "source": [
    "# List comprehension \n",
    "dados = [(col1.value, col2.value, col3.value) for col1, col2, col3 in cell_range]\n",
    "dados"
   ]
  },
  {
   "cell_type": "markdown",
   "metadata": {},
   "source": [
    "## Offset"
   ]
  },
  {
   "cell_type": "code",
   "execution_count": 65,
   "metadata": {},
   "outputs": [],
   "source": [
    "from openpyxl import load_workbook, Workbook"
   ]
  },
  {
   "cell_type": "code",
   "execution_count": 66,
   "metadata": {},
   "outputs": [],
   "source": [
    "wb = load_workbook('planilhas_usando_classes.xlsx')\n",
    "ws = wb['teste1']"
   ]
  },
  {
   "cell_type": "code",
   "execution_count": 67,
   "metadata": {},
   "outputs": [
    {
     "data": {
      "text/plain": [
       "'Descrição'"
      ]
     },
     "execution_count": 67,
     "metadata": {},
     "output_type": "execute_result"
    }
   ],
   "source": [
    "# Pegando o valor da segunda célula da primeira linha\n",
    "ws.cell(1,2).value"
   ]
  },
  {
   "cell_type": "code",
   "execution_count": 68,
   "metadata": {},
   "outputs": [
    {
     "data": {
      "text/plain": [
       "'Valor'"
      ]
     },
     "execution_count": 68,
     "metadata": {},
     "output_type": "execute_result"
    }
   ],
   "source": [
    "# Pegando o valor ao lado direito segunda célula da primeira linha\n",
    "ws.cell(1,2).offset(0,1).value"
   ]
  },
  {
   "cell_type": "code",
   "execution_count": 69,
   "metadata": {},
   "outputs": [],
   "source": [
    "ref = ws.cell(1,1)\n",
    "ref.offset(0,3).value = 'Obervação'\n",
    "ref.offset(1,3).value = 'Valor abaixo do esperado'\n",
    "ref.offset(2,3).value = 'Valor na média do esperado'\n",
    "ref.offset(3,3).value = 'Valor acima do esperado'"
   ]
  },
  {
   "cell_type": "code",
   "execution_count": 70,
   "metadata": {},
   "outputs": [],
   "source": [
    "wb.save('planilhas_usando_classes.xlsx')"
   ]
  },
  {
   "cell_type": "code",
   "execution_count": 71,
   "metadata": {},
   "outputs": [
    {
     "name": "stdout",
     "output_type": "stream",
     "text": [
      "Código\n",
      "001\n",
      "002\n",
      "003\n",
      "Descrição\n",
      "Material de Limpeza\n",
      "Material de Consumo\n",
      "Matéria Prima\n"
     ]
    }
   ],
   "source": [
    "for col_a in ws['A']:\n",
    "    print(col_a.value)\n",
    "\n",
    "for col_a in ws['A']:\n",
    "    print(col_a.offset(0,1).value)"
   ]
  }
 ],
 "metadata": {
  "kernelspec": {
   "display_name": "venv",
   "language": "python",
   "name": "python3"
  },
  "language_info": {
   "codemirror_mode": {
    "name": "ipython",
    "version": 3
   },
   "file_extension": ".py",
   "mimetype": "text/x-python",
   "name": "python",
   "nbconvert_exporter": "python",
   "pygments_lexer": "ipython3",
   "version": "3.12.0"
  }
 },
 "nbformat": 4,
 "nbformat_minor": 2
}
